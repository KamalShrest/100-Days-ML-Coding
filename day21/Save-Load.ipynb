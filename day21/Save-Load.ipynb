{
 "cells": [
  {
   "cell_type": "code",
   "execution_count": 1,
   "metadata": {
    "collapsed": false
   },
   "outputs": [],
   "source": [
    "# METHOD - 1\n",
    "#####\n",
    "\n",
    "# https://docs.python.org/2/library/pickle.html\n",
    "# Pickling is a de-facto of how to serialize the objects in Python in general.\n",
    "\n",
    "import pickle as pkl\n",
    "\n",
    "\n",
    "## helper functions\n",
    "def save(model, fname):\n",
    "    # save the model to disk\n",
    "    pkl.dump(model, open(fname, 'wb'))\n",
    "\n",
    "def load(fname):\n",
    "    # load the model from disk\n",
    "    loaded_model = pkl.load(open(fname, 'rb'))\n",
    "    return loaded_model"
   ]
  },
  {
   "cell_type": "code",
   "execution_count": 2,
   "metadata": {
    "collapsed": true
   },
   "outputs": [],
   "source": [
    "# METHOD - 2\n",
    "#####\n",
    "\n",
    "# More efficient when saving large arrays/objects. Preferred for saving sklearn ML models.\n",
    "\n",
    "from sklearn.externals.joblib import dump, load\n",
    "\n",
    "## helper functions\n",
    "def save(model, fname):\n",
    "    # save the model to disk\n",
    "    dump(model,fname)\n",
    "\n",
    "def load(fname):\n",
    "    # load the model from disk\n",
    "    loaded_model = load(fname)\n",
    "    return loaded_model"
   ]
  },
  {
   "cell_type": "markdown",
   "metadata": {},
   "source": [
    "### Must Read\n",
    "\n",
    "* http://scikit-learn.org/stable/modules/model_persistence.html"
   ]
  }
 ],
 "metadata": {
  "kernelspec": {
   "display_name": "Python 2",
   "language": "python",
   "name": "python2"
  },
  "language_info": {
   "codemirror_mode": {
    "name": "ipython",
    "version": 2
   },
   "file_extension": ".py",
   "mimetype": "text/x-python",
   "name": "python",
   "nbconvert_exporter": "python",
   "pygments_lexer": "ipython2",
   "version": "2.7.12"
  }
 },
 "nbformat": 4,
 "nbformat_minor": 1
}
